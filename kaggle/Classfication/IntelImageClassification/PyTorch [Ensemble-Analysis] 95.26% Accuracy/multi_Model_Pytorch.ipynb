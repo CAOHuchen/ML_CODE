{
 "cells": [
  {
   "attachments": {
    "image.png": {
     "image/png": "[encoded data removed]"
    }
   },
   "cell_type": "markdown",
   "metadata": {},
   "source": [
    "![image.png](attachment:image.png)"
   ]
  },
  {
   "cell_type": "code",
   "execution_count": 1,
   "metadata": {},
   "outputs": [
    {
     "name": "stderr",
     "output_type": "stream",
     "text": [
      "c:\\Users\\Leaper\\anaconda3\\envs\\pytorch\\lib\\site-packages\\tqdm\\auto.py:21: TqdmWarning: IProgress not found. Please update jupyter and ipywidgets. See https://ipywidgets.readthedocs.io/en/stable/user_install.html\n",
      "  from .autonotebook import tqdm as notebook_tqdm\n"
     ]
    }
   ],
   "source": [
    "import torch\n",
    "from torch import nn\n",
    "import torchvision\n",
    "import numpy as np\n",
    "#!pip install timm\n",
    "import timm\n",
    "import os\n",
    "import matplotlib.pyplot as plt\n",
    "from datetime import datetime\n",
    "import pandas as pd\n",
    "from timm.data import resolve_data_config\n",
    "from timm.data.transforms_factory import create_transform\n",
    "from torchvision.datasets import ImageFolder\n",
    "import operator\n",
    "import torchvision.transforms as transforms \n",
    "import seaborn as sns\n",
    "\n",
    "from sklearn.metrics import accuracy_score,confusion_matrix\n",
    "from sklearn.metrics import classification_report\n",
    "import matplotlib.ticker as ticker\n",
    "import itertools"
   ]
  },
  {
   "cell_type": "code",
   "execution_count": 2,
   "metadata": {},
   "outputs": [],
   "source": [
    "#test -> validation set\n",
    "#pred -> test set (not labelled)\n",
    "train_dir = \"D:\\code_study\\ML_CODE\\dataSets\\IntelImageClassification\\seg_train\\seg_train\"\n",
    "test_dir = \"D:\\code_study\\ML_CODE\\dataSets\\IntelImageClassification\\seg_test\\seg_test\"\n",
    "pred_dir = \"D:\\code_study\\ML_CODE\\dataSets\\IntelImageClassification\\seg_pred\\seg_pred\"\n",
    "\n",
    "BATCH_SIZE = 64\n",
    "EPOCHS = 9\n",
    "CLASSES = os.listdir(train_dir)\n",
    "metric = 0"
   ]
  },
  {
   "cell_type": "code",
   "execution_count": 3,
   "metadata": {},
   "outputs": [
    {
     "data": {
      "text/plain": [
       "device(type='cuda')"
      ]
     },
     "execution_count": 3,
     "metadata": {},
     "output_type": "execute_result"
    }
   ],
   "source": [
    "device = torch.device('cuda' if torch.cuda.is_available else 'cpu')\n",
    "device"
   ]
  },
  {
   "cell_type": "code",
   "execution_count": 4,
   "metadata": {},
   "outputs": [],
   "source": [
    "def model_adjustment(p_model):\n",
    "    for param in p_model.parameters():\n",
    "        param.requires_grad=False\n",
    "    return p_model"
   ]
  },
  {
   "cell_type": "code",
   "execution_count": 5,
   "metadata": {},
   "outputs": [],
   "source": [
    "def model_assets(base_model, seed):\n",
    "    criterion = nn.CrossEntropyLoss()\n",
    "    optimizer = torch.optim.Adam(base_model.parameters(), lr=0.001)\n",
    "    lrp_scheduler = torch.optim.lr_scheduler.ReduceLROnPlateau(optimizer, mode='min', factor=0.1, patience=2)\n",
    "    if seed == 0 or seed == 1:\n",
    "        mls_scheduler = torch.optim.lr_scheduler.MultiStepLR(optimizer, milestones=[2], gamma=0.1)\n",
    "        return criterion, optimizer, lrp_scheduler, mls_scheduler\n",
    "    else:\n",
    "        return criterion, optimizer, lrp_scheduler"
   ]
  },
  {
   "cell_type": "code",
   "execution_count": 6,
   "metadata": {},
   "outputs": [],
   "source": [
    "def model_archive(seed):\n",
    "    if seed == 0:\n",
    "        model = torchvision.models.vgg19_bn(pretrained=True)\n",
    "        model = model_adjustment(model)\n",
    "        in_features = model.classifier[0].in_features\n",
    "        model.classifier = nn.Sequential(\n",
    "            nn.Linear(in_features, out_features=4096),\n",
    "            nn.ReLU(),\n",
    "            nn.Dropout(0.2),\n",
    "            nn.Linear(in_features=4096, out_features=4096),\n",
    "            nn.ReLU(),\n",
    "            nn.Dropout(0.2),\n",
    "            nn.Linear(in_features=4096, out_features=len(CLASSES)),\n",
    "        )\n",
    "        model.to(device)\n",
    "        criterion, optimizer, lrp_scheduler, mls_scheduler = model_assets(model, seed) \n",
    "        return model, criterion, optimizer, lrp_scheduler, mls_scheduler\n",
    "    \n",
    "    elif seed == 1:\n",
    "        model = timm.create_model('vit_base_patch16_224', pretrained=True)\n",
    "        model = model_adjustment(model)\n",
    "        in_features = model.head.in_features\n",
    "        model.head = nn.Linear(in_features, out_features=len(CLASSES), bias=True)\n",
    "        model.to(device)\n",
    "        criterion, optimizer, lrp_scheduler, mls_scheduler = model_assets(model, seed)\n",
    "        return model, criterion, optimizer, lrp_scheduler, mls_scheduler\n",
    "    \n",
    "    elif seed == 2:\n",
    "        model = timm.create_model('ens_adv_inception_resnet_v2', pretrained=True)\n",
    "        model = model_adjustment(model)\n",
    "        in_features = model.classif.in_features\n",
    "        model.classif = nn.Linear(in_features, out_features=len(CLASSES), bias=True)\n",
    "        model.to(device)\n",
    "        criterion, optimizer, lrp_scheduler = model_assets(model, seed)\n",
    "        return model, criterion, optimizer, lrp_scheduler\n",
    "    \n",
    "    elif seed == 3:\n",
    "        model = torchvision.models.densenet201(pretrained=True)\n",
    "        model = model_adjustment(model)\n",
    "        in_features = model.classifier.in_features\n",
    "        model.classifier = nn.Linear(in_features, out_features=len(CLASSES), bias=True)\n",
    "        model.to(device)\n",
    "        criterion, optimizer, lrp_scheduler = model_assets(model, seed)\n",
    "        return model, criterion, optimizer, lrp_scheduler\n",
    "    \n",
    "    elif seed == 4:\n",
    "        model = torchvision.models.resnext50_32x4d(pretrained=True)\n",
    "        model = model_adjustment(model)\n",
    "        in_features = model.fc.in_features\n",
    "        model.fc = nn.Linear(in_features, out_features=len(CLASSES), bias=True)\n",
    "        model.to(device)\n",
    "        criterion, optimizer, lrp_scheduler = model_assets(model, seed)\n",
    "        return model, criterion, optimizer, lrp_scheduler"
   ]
  },
  {
   "cell_type": "code",
   "execution_count": 8,
   "metadata": {},
   "outputs": [
    {
     "ename": "LocalEntryNotFoundError",
     "evalue": "An error happened while trying to locate the file on the Hub and we cannot find the requested files in the local cache. Please check your connection and try again or make sure your Internet connection is on.",
     "output_type": "error",
     "traceback": [
      "\u001b[1;31m---------------------------------------------------------------------------\u001b[0m",
      "\u001b[1;31mtimeout\u001b[0m                                   Traceback (most recent call last)",
      "File \u001b[1;32mc:\\Users\\Leaper\\anaconda3\\envs\\pytorch\\lib\\site-packages\\urllib3\\connection.py:198\u001b[0m, in \u001b[0;36mHTTPConnection._new_conn\u001b[1;34m(self)\u001b[0m\n\u001b[0;32m    197\u001b[0m \u001b[39mtry\u001b[39;00m:\n\u001b[1;32m--> 198\u001b[0m     sock \u001b[39m=\u001b[39m connection\u001b[39m.\u001b[39;49mcreate_connection(\n\u001b[0;32m    199\u001b[0m         (\u001b[39mself\u001b[39;49m\u001b[39m.\u001b[39;49m_dns_host, \u001b[39mself\u001b[39;49m\u001b[39m.\u001b[39;49mport),\n\u001b[0;32m    200\u001b[0m         \u001b[39mself\u001b[39;49m\u001b[39m.\u001b[39;49mtimeout,\n\u001b[0;32m    201\u001b[0m         source_address\u001b[39m=\u001b[39;49m\u001b[39mself\u001b[39;49m\u001b[39m.\u001b[39;49msource_address,\n\u001b[0;32m    202\u001b[0m         socket_options\u001b[39m=\u001b[39;49m\u001b[39mself\u001b[39;49m\u001b[39m.\u001b[39;49msocket_options,\n\u001b[0;32m    203\u001b[0m     )\n\u001b[0;32m    204\u001b[0m \u001b[39mexcept\u001b[39;00m socket\u001b[39m.\u001b[39mgaierror \u001b[39mas\u001b[39;00m e:\n",
      "File \u001b[1;32mc:\\Users\\Leaper\\anaconda3\\envs\\pytorch\\lib\\site-packages\\urllib3\\util\\connection.py:85\u001b[0m, in \u001b[0;36mcreate_connection\u001b[1;34m(address, timeout, source_address, socket_options)\u001b[0m\n\u001b[0;32m     84\u001b[0m \u001b[39mtry\u001b[39;00m:\n\u001b[1;32m---> 85\u001b[0m     \u001b[39mraise\u001b[39;00m err\n\u001b[0;32m     86\u001b[0m \u001b[39mfinally\u001b[39;00m:\n\u001b[0;32m     87\u001b[0m     \u001b[39m# Break explicitly a reference cycle\u001b[39;00m\n",
      "File \u001b[1;32mc:\\Users\\Leaper\\anaconda3\\envs\\pytorch\\lib\\site-packages\\urllib3\\util\\connection.py:73\u001b[0m, in \u001b[0;36mcreate_connection\u001b[1;34m(address, timeout, source_address, socket_options)\u001b[0m\n\u001b[0;32m     72\u001b[0m     sock\u001b[39m.\u001b[39mbind(source_address)\n\u001b[1;32m---> 73\u001b[0m sock\u001b[39m.\u001b[39;49mconnect(sa)\n\u001b[0;32m     74\u001b[0m \u001b[39m# Break explicitly a reference cycle\u001b[39;00m\n",
      "\u001b[1;31mtimeout\u001b[0m: timed out",
      "\nThe above exception was the direct cause of the following exception:\n",
      "\u001b[1;31mConnectTimeoutError\u001b[0m                       Traceback (most recent call last)",
      "File \u001b[1;32mc:\\Users\\Leaper\\anaconda3\\envs\\pytorch\\lib\\site-packages\\urllib3\\connectionpool.py:793\u001b[0m, in \u001b[0;36mHTTPConnectionPool.urlopen\u001b[1;34m(self, method, url, body, headers, retries, redirect, assert_same_host, timeout, pool_timeout, release_conn, chunked, body_pos, preload_content, decode_content, **response_kw)\u001b[0m\n\u001b[0;32m    792\u001b[0m \u001b[39m# Make the request on the HTTPConnection object\u001b[39;00m\n\u001b[1;32m--> 793\u001b[0m response \u001b[39m=\u001b[39m \u001b[39mself\u001b[39m\u001b[39m.\u001b[39m_make_request(\n\u001b[0;32m    794\u001b[0m     conn,\n\u001b[0;32m    795\u001b[0m     method,\n\u001b[0;32m    796\u001b[0m     url,\n\u001b[0;32m    797\u001b[0m     timeout\u001b[39m=\u001b[39mtimeout_obj,\n\u001b[0;32m    798\u001b[0m     body\u001b[39m=\u001b[39mbody,\n\u001b[0;32m    799\u001b[0m     headers\u001b[39m=\u001b[39mheaders,\n\u001b[0;32m    800\u001b[0m     chunked\u001b[39m=\u001b[39mchunked,\n\u001b[0;32m    801\u001b[0m     retries\u001b[39m=\u001b[39mretries,\n\u001b[0;32m    802\u001b[0m     response_conn\u001b[39m=\u001b[39mresponse_conn,\n\u001b[0;32m    803\u001b[0m     preload_content\u001b[39m=\u001b[39mpreload_content,\n\u001b[0;32m    804\u001b[0m     decode_content\u001b[39m=\u001b[39mdecode_content,\n\u001b[0;32m    805\u001b[0m     \u001b[39m*\u001b[39m\u001b[39m*\u001b[39mresponse_kw,\n\u001b[0;32m    806\u001b[0m )\n\u001b[0;32m    808\u001b[0m \u001b[39m# Everything went great!\u001b[39;00m\n",
      "File \u001b[1;32mc:\\Users\\Leaper\\anaconda3\\envs\\pytorch\\lib\\site-packages\\urllib3\\connectionpool.py:491\u001b[0m, in \u001b[0;36mHTTPConnectionPool._make_request\u001b[1;34m(self, conn, method, url, body, headers, retries, timeout, chunked, response_conn, preload_content, decode_content, enforce_content_length)\u001b[0m\n\u001b[0;32m    490\u001b[0m         new_e \u001b[39m=\u001b[39m _wrap_proxy_error(new_e, conn\u001b[39m.\u001b[39mproxy\u001b[39m.\u001b[39mscheme)\n\u001b[1;32m--> 491\u001b[0m     \u001b[39mraise\u001b[39;00m new_e\n\u001b[0;32m    493\u001b[0m \u001b[39m# conn.request() calls http.client.*.request, not the method in\u001b[39;00m\n\u001b[0;32m    494\u001b[0m \u001b[39m# urllib3.request. It also calls makefile (recv) on the socket.\u001b[39;00m\n",
      "File \u001b[1;32mc:\\Users\\Leaper\\anaconda3\\envs\\pytorch\\lib\\site-packages\\urllib3\\connectionpool.py:467\u001b[0m, in \u001b[0;36mHTTPConnectionPool._make_request\u001b[1;34m(self, conn, method, url, body, headers, retries, timeout, chunked, response_conn, preload_content, decode_content, enforce_content_length)\u001b[0m\n\u001b[0;32m    466\u001b[0m \u001b[39mtry\u001b[39;00m:\n\u001b[1;32m--> 467\u001b[0m     \u001b[39mself\u001b[39;49m\u001b[39m.\u001b[39;49m_validate_conn(conn)\n\u001b[0;32m    468\u001b[0m \u001b[39mexcept\u001b[39;00m (SocketTimeout, BaseSSLError) \u001b[39mas\u001b[39;00m e:\n",
      "File \u001b[1;32mc:\\Users\\Leaper\\anaconda3\\envs\\pytorch\\lib\\site-packages\\urllib3\\connectionpool.py:1099\u001b[0m, in \u001b[0;36mHTTPSConnectionPool._validate_conn\u001b[1;34m(self, conn)\u001b[0m\n\u001b[0;32m   1098\u001b[0m \u001b[39mif\u001b[39;00m conn\u001b[39m.\u001b[39mis_closed:\n\u001b[1;32m-> 1099\u001b[0m     conn\u001b[39m.\u001b[39;49mconnect()\n\u001b[0;32m   1101\u001b[0m \u001b[39m# TODO revise this, see https://github.com/urllib3/urllib3/issues/2791\u001b[39;00m\n",
      "File \u001b[1;32mc:\\Users\\Leaper\\anaconda3\\envs\\pytorch\\lib\\site-packages\\urllib3\\connection.py:616\u001b[0m, in \u001b[0;36mHTTPSConnection.connect\u001b[1;34m(self)\u001b[0m\n\u001b[0;32m    615\u001b[0m sock: socket\u001b[39m.\u001b[39msocket \u001b[39m|\u001b[39m ssl\u001b[39m.\u001b[39mSSLSocket\n\u001b[1;32m--> 616\u001b[0m \u001b[39mself\u001b[39m\u001b[39m.\u001b[39msock \u001b[39m=\u001b[39m sock \u001b[39m=\u001b[39m \u001b[39mself\u001b[39;49m\u001b[39m.\u001b[39;49m_new_conn()\n\u001b[0;32m    617\u001b[0m server_hostname: \u001b[39mstr\u001b[39m \u001b[39m=\u001b[39m \u001b[39mself\u001b[39m\u001b[39m.\u001b[39mhost\n",
      "File \u001b[1;32mc:\\Users\\Leaper\\anaconda3\\envs\\pytorch\\lib\\site-packages\\urllib3\\connection.py:207\u001b[0m, in \u001b[0;36mHTTPConnection._new_conn\u001b[1;34m(self)\u001b[0m\n\u001b[0;32m    206\u001b[0m \u001b[39mexcept\u001b[39;00m SocketTimeout \u001b[39mas\u001b[39;00m e:\n\u001b[1;32m--> 207\u001b[0m     \u001b[39mraise\u001b[39;00m ConnectTimeoutError(\n\u001b[0;32m    208\u001b[0m         \u001b[39mself\u001b[39m,\n\u001b[0;32m    209\u001b[0m         \u001b[39mf\u001b[39m\u001b[39m\"\u001b[39m\u001b[39mConnection to \u001b[39m\u001b[39m{\u001b[39;00m\u001b[39mself\u001b[39m\u001b[39m.\u001b[39mhost\u001b[39m}\u001b[39;00m\u001b[39m timed out. (connect timeout=\u001b[39m\u001b[39m{\u001b[39;00m\u001b[39mself\u001b[39m\u001b[39m.\u001b[39mtimeout\u001b[39m}\u001b[39;00m\u001b[39m)\u001b[39m\u001b[39m\"\u001b[39m,\n\u001b[0;32m    210\u001b[0m     ) \u001b[39mfrom\u001b[39;00m \u001b[39me\u001b[39;00m\n\u001b[0;32m    212\u001b[0m \u001b[39mexcept\u001b[39;00m \u001b[39mOSError\u001b[39;00m \u001b[39mas\u001b[39;00m e:\n",
      "\u001b[1;31mConnectTimeoutError\u001b[0m: (<urllib3.connection.HTTPSConnection object at 0x0000027157EA99D0>, 'Connection to huggingface.co timed out. (connect timeout=10)')",
      "\nThe above exception was the direct cause of the following exception:\n",
      "\u001b[1;31mMaxRetryError\u001b[0m                             Traceback (most recent call last)",
      "File \u001b[1;32mc:\\Users\\Leaper\\anaconda3\\envs\\pytorch\\lib\\site-packages\\requests\\adapters.py:667\u001b[0m, in \u001b[0;36mHTTPAdapter.send\u001b[1;34m(self, request, stream, timeout, verify, cert, proxies)\u001b[0m\n\u001b[0;32m    666\u001b[0m \u001b[39mtry\u001b[39;00m:\n\u001b[1;32m--> 667\u001b[0m     resp \u001b[39m=\u001b[39m conn\u001b[39m.\u001b[39;49murlopen(\n\u001b[0;32m    668\u001b[0m         method\u001b[39m=\u001b[39;49mrequest\u001b[39m.\u001b[39;49mmethod,\n\u001b[0;32m    669\u001b[0m         url\u001b[39m=\u001b[39;49murl,\n\u001b[0;32m    670\u001b[0m         body\u001b[39m=\u001b[39;49mrequest\u001b[39m.\u001b[39;49mbody,\n\u001b[0;32m    671\u001b[0m         headers\u001b[39m=\u001b[39;49mrequest\u001b[39m.\u001b[39;49mheaders,\n\u001b[0;32m    672\u001b[0m         redirect\u001b[39m=\u001b[39;49m\u001b[39mFalse\u001b[39;49;00m,\n\u001b[0;32m    673\u001b[0m         assert_same_host\u001b[39m=\u001b[39;49m\u001b[39mFalse\u001b[39;49;00m,\n\u001b[0;32m    674\u001b[0m         preload_content\u001b[39m=\u001b[39;49m\u001b[39mFalse\u001b[39;49;00m,\n\u001b[0;32m    675\u001b[0m         decode_content\u001b[39m=\u001b[39;49m\u001b[39mFalse\u001b[39;49;00m,\n\u001b[0;32m    676\u001b[0m         retries\u001b[39m=\u001b[39;49m\u001b[39mself\u001b[39;49m\u001b[39m.\u001b[39;49mmax_retries,\n\u001b[0;32m    677\u001b[0m         timeout\u001b[39m=\u001b[39;49mtimeout,\n\u001b[0;32m    678\u001b[0m         chunked\u001b[39m=\u001b[39;49mchunked,\n\u001b[0;32m    679\u001b[0m     )\n\u001b[0;32m    681\u001b[0m \u001b[39mexcept\u001b[39;00m (ProtocolError, \u001b[39mOSError\u001b[39;00m) \u001b[39mas\u001b[39;00m err:\n",
      "File \u001b[1;32mc:\\Users\\Leaper\\anaconda3\\envs\\pytorch\\lib\\site-packages\\urllib3\\connectionpool.py:847\u001b[0m, in \u001b[0;36mHTTPConnectionPool.urlopen\u001b[1;34m(self, method, url, body, headers, retries, redirect, assert_same_host, timeout, pool_timeout, release_conn, chunked, body_pos, preload_content, decode_content, **response_kw)\u001b[0m\n\u001b[0;32m    845\u001b[0m     new_e \u001b[39m=\u001b[39m ProtocolError(\u001b[39m\"\u001b[39m\u001b[39mConnection aborted.\u001b[39m\u001b[39m\"\u001b[39m, new_e)\n\u001b[1;32m--> 847\u001b[0m retries \u001b[39m=\u001b[39m retries\u001b[39m.\u001b[39;49mincrement(\n\u001b[0;32m    848\u001b[0m     method, url, error\u001b[39m=\u001b[39;49mnew_e, _pool\u001b[39m=\u001b[39;49m\u001b[39mself\u001b[39;49m, _stacktrace\u001b[39m=\u001b[39;49msys\u001b[39m.\u001b[39;49mexc_info()[\u001b[39m2\u001b[39;49m]\n\u001b[0;32m    849\u001b[0m )\n\u001b[0;32m    850\u001b[0m retries\u001b[39m.\u001b[39msleep()\n",
      "File \u001b[1;32mc:\\Users\\Leaper\\anaconda3\\envs\\pytorch\\lib\\site-packages\\urllib3\\util\\retry.py:515\u001b[0m, in \u001b[0;36mRetry.increment\u001b[1;34m(self, method, url, response, error, _pool, _stacktrace)\u001b[0m\n\u001b[0;32m    514\u001b[0m     reason \u001b[39m=\u001b[39m error \u001b[39mor\u001b[39;00m ResponseError(cause)\n\u001b[1;32m--> 515\u001b[0m     \u001b[39mraise\u001b[39;00m MaxRetryError(_pool, url, reason) \u001b[39mfrom\u001b[39;00m \u001b[39mreason\u001b[39;00m  \u001b[39m# type: ignore[arg-type]\u001b[39;00m\n\u001b[0;32m    517\u001b[0m log\u001b[39m.\u001b[39mdebug(\u001b[39m\"\u001b[39m\u001b[39mIncremented Retry for (url=\u001b[39m\u001b[39m'\u001b[39m\u001b[39m%s\u001b[39;00m\u001b[39m'\u001b[39m\u001b[39m): \u001b[39m\u001b[39m%r\u001b[39;00m\u001b[39m\"\u001b[39m, url, new_retry)\n",
      "\u001b[1;31mMaxRetryError\u001b[0m: HTTPSConnectionPool(host='huggingface.co', port=443): Max retries exceeded with url: /timm/vit_base_patch16_224.augreg2_in21k_ft_in1k/resolve/main/pytorch_model.bin (Caused by ConnectTimeoutError(<urllib3.connection.HTTPSConnection object at 0x0000027157EA99D0>, 'Connection to huggingface.co timed out. (connect timeout=10)'))",
      "\nDuring handling of the above exception, another exception occurred:\n",
      "\u001b[1;31mConnectTimeout\u001b[0m                            Traceback (most recent call last)",
      "File \u001b[1;32mc:\\Users\\Leaper\\anaconda3\\envs\\pytorch\\lib\\site-packages\\huggingface_hub\\file_download.py:1374\u001b[0m, in \u001b[0;36m_get_metadata_or_catch_error\u001b[1;34m(repo_id, filename, repo_type, revision, endpoint, proxies, etag_timeout, headers, token, local_files_only, relative_filename, storage_folder)\u001b[0m\n\u001b[0;32m   1373\u001b[0m \u001b[39mtry\u001b[39;00m:\n\u001b[1;32m-> 1374\u001b[0m     metadata \u001b[39m=\u001b[39m get_hf_file_metadata(\n\u001b[0;32m   1375\u001b[0m         url\u001b[39m=\u001b[39;49murl, proxies\u001b[39m=\u001b[39;49mproxies, timeout\u001b[39m=\u001b[39;49metag_timeout, headers\u001b[39m=\u001b[39;49mheaders, token\u001b[39m=\u001b[39;49mtoken\n\u001b[0;32m   1376\u001b[0m     )\n\u001b[0;32m   1377\u001b[0m \u001b[39mexcept\u001b[39;00m EntryNotFoundError \u001b[39mas\u001b[39;00m http_error:\n",
      "File \u001b[1;32mc:\\Users\\Leaper\\anaconda3\\envs\\pytorch\\lib\\site-packages\\huggingface_hub\\utils\\_validators.py:114\u001b[0m, in \u001b[0;36mvalidate_hf_hub_args.<locals>._inner_fn\u001b[1;34m(*args, **kwargs)\u001b[0m\n\u001b[0;32m    112\u001b[0m     kwargs \u001b[39m=\u001b[39m smoothly_deprecate_use_auth_token(fn_name\u001b[39m=\u001b[39mfn\u001b[39m.\u001b[39m\u001b[39m__name__\u001b[39m, has_token\u001b[39m=\u001b[39mhas_token, kwargs\u001b[39m=\u001b[39mkwargs)\n\u001b[1;32m--> 114\u001b[0m \u001b[39mreturn\u001b[39;00m fn(\u001b[39m*\u001b[39margs, \u001b[39m*\u001b[39m\u001b[39m*\u001b[39mkwargs)\n",
      "File \u001b[1;32mc:\\Users\\Leaper\\anaconda3\\envs\\pytorch\\lib\\site-packages\\huggingface_hub\\file_download.py:1294\u001b[0m, in \u001b[0;36mget_hf_file_metadata\u001b[1;34m(url, token, proxies, timeout, library_name, library_version, user_agent, headers)\u001b[0m\n\u001b[0;32m   1293\u001b[0m \u001b[39m# Retrieve metadata\u001b[39;00m\n\u001b[1;32m-> 1294\u001b[0m r \u001b[39m=\u001b[39m _request_wrapper(\n\u001b[0;32m   1295\u001b[0m     method\u001b[39m=\u001b[39;49m\u001b[39m\"\u001b[39;49m\u001b[39mHEAD\u001b[39;49m\u001b[39m\"\u001b[39;49m,\n\u001b[0;32m   1296\u001b[0m     url\u001b[39m=\u001b[39;49murl,\n\u001b[0;32m   1297\u001b[0m     headers\u001b[39m=\u001b[39;49mhf_headers,\n\u001b[0;32m   1298\u001b[0m     allow_redirects\u001b[39m=\u001b[39;49m\u001b[39mFalse\u001b[39;49;00m,\n\u001b[0;32m   1299\u001b[0m     follow_relative_redirects\u001b[39m=\u001b[39;49m\u001b[39mTrue\u001b[39;49;00m,\n\u001b[0;32m   1300\u001b[0m     proxies\u001b[39m=\u001b[39;49mproxies,\n\u001b[0;32m   1301\u001b[0m     timeout\u001b[39m=\u001b[39;49mtimeout,\n\u001b[0;32m   1302\u001b[0m )\n\u001b[0;32m   1303\u001b[0m hf_raise_for_status(r)\n",
      "File \u001b[1;32mc:\\Users\\Leaper\\anaconda3\\envs\\pytorch\\lib\\site-packages\\huggingface_hub\\file_download.py:278\u001b[0m, in \u001b[0;36m_request_wrapper\u001b[1;34m(method, url, follow_relative_redirects, **params)\u001b[0m\n\u001b[0;32m    277\u001b[0m \u001b[39mif\u001b[39;00m follow_relative_redirects:\n\u001b[1;32m--> 278\u001b[0m     response \u001b[39m=\u001b[39m _request_wrapper(\n\u001b[0;32m    279\u001b[0m         method\u001b[39m=\u001b[39mmethod,\n\u001b[0;32m    280\u001b[0m         url\u001b[39m=\u001b[39murl,\n\u001b[0;32m    281\u001b[0m         follow_relative_redirects\u001b[39m=\u001b[39m\u001b[39mFalse\u001b[39;00m,\n\u001b[0;32m    282\u001b[0m         \u001b[39m*\u001b[39m\u001b[39m*\u001b[39mparams,\n\u001b[0;32m    283\u001b[0m     )\n\u001b[0;32m    285\u001b[0m     \u001b[39m# If redirection, we redirect only relative paths.\u001b[39;00m\n\u001b[0;32m    286\u001b[0m     \u001b[39m# This is useful in case of a renamed repository.\u001b[39;00m\n",
      "File \u001b[1;32mc:\\Users\\Leaper\\anaconda3\\envs\\pytorch\\lib\\site-packages\\huggingface_hub\\file_download.py:301\u001b[0m, in \u001b[0;36m_request_wrapper\u001b[1;34m(method, url, follow_relative_redirects, **params)\u001b[0m\n\u001b[0;32m    300\u001b[0m \u001b[39m# Perform request and return if status_code is not in the retry list.\u001b[39;00m\n\u001b[1;32m--> 301\u001b[0m response \u001b[39m=\u001b[39m get_session()\u001b[39m.\u001b[39mrequest(method\u001b[39m=\u001b[39mmethod, url\u001b[39m=\u001b[39murl, \u001b[39m*\u001b[39m\u001b[39m*\u001b[39mparams)\n\u001b[0;32m    302\u001b[0m hf_raise_for_status(response)\n",
      "File \u001b[1;32mc:\\Users\\Leaper\\anaconda3\\envs\\pytorch\\lib\\site-packages\\requests\\sessions.py:589\u001b[0m, in \u001b[0;36mSession.request\u001b[1;34m(self, method, url, params, data, headers, cookies, files, auth, timeout, allow_redirects, proxies, hooks, stream, verify, cert, json)\u001b[0m\n\u001b[0;32m    588\u001b[0m send_kwargs\u001b[39m.\u001b[39mupdate(settings)\n\u001b[1;32m--> 589\u001b[0m resp \u001b[39m=\u001b[39m \u001b[39mself\u001b[39m\u001b[39m.\u001b[39msend(prep, \u001b[39m*\u001b[39m\u001b[39m*\u001b[39msend_kwargs)\n\u001b[0;32m    591\u001b[0m \u001b[39mreturn\u001b[39;00m resp\n",
      "File \u001b[1;32mc:\\Users\\Leaper\\anaconda3\\envs\\pytorch\\lib\\site-packages\\requests\\sessions.py:703\u001b[0m, in \u001b[0;36mSession.send\u001b[1;34m(self, request, **kwargs)\u001b[0m\n\u001b[0;32m    702\u001b[0m \u001b[39m# Send the request\u001b[39;00m\n\u001b[1;32m--> 703\u001b[0m r \u001b[39m=\u001b[39m adapter\u001b[39m.\u001b[39msend(request, \u001b[39m*\u001b[39m\u001b[39m*\u001b[39mkwargs)\n\u001b[0;32m    705\u001b[0m \u001b[39m# Total elapsed time of the request (approximately)\u001b[39;00m\n",
      "File \u001b[1;32mc:\\Users\\Leaper\\anaconda3\\envs\\pytorch\\lib\\site-packages\\huggingface_hub\\utils\\_http.py:93\u001b[0m, in \u001b[0;36mUniqueRequestIdAdapter.send\u001b[1;34m(self, request, *args, **kwargs)\u001b[0m\n\u001b[0;32m     92\u001b[0m \u001b[39mtry\u001b[39;00m:\n\u001b[1;32m---> 93\u001b[0m     \u001b[39mreturn\u001b[39;00m \u001b[39msuper\u001b[39m()\u001b[39m.\u001b[39msend(request, \u001b[39m*\u001b[39margs, \u001b[39m*\u001b[39m\u001b[39m*\u001b[39mkwargs)\n\u001b[0;32m     94\u001b[0m \u001b[39mexcept\u001b[39;00m requests\u001b[39m.\u001b[39mRequestException \u001b[39mas\u001b[39;00m e:\n",
      "File \u001b[1;32mc:\\Users\\Leaper\\anaconda3\\envs\\pytorch\\lib\\site-packages\\requests\\adapters.py:688\u001b[0m, in \u001b[0;36mHTTPAdapter.send\u001b[1;34m(self, request, stream, timeout, verify, cert, proxies)\u001b[0m\n\u001b[0;32m    687\u001b[0m     \u001b[39mif\u001b[39;00m \u001b[39mnot\u001b[39;00m \u001b[39misinstance\u001b[39m(e\u001b[39m.\u001b[39mreason, NewConnectionError):\n\u001b[1;32m--> 688\u001b[0m         \u001b[39mraise\u001b[39;00m ConnectTimeout(e, request\u001b[39m=\u001b[39mrequest)\n\u001b[0;32m    690\u001b[0m \u001b[39mif\u001b[39;00m \u001b[39misinstance\u001b[39m(e\u001b[39m.\u001b[39mreason, ResponseError):\n",
      "\u001b[1;31mConnectTimeout\u001b[0m: (MaxRetryError(\"HTTPSConnectionPool(host='huggingface.co', port=443): Max retries exceeded with url: /timm/vit_base_patch16_224.augreg2_in21k_ft_in1k/resolve/main/pytorch_model.bin (Caused by ConnectTimeoutError(<urllib3.connection.HTTPSConnection object at 0x0000027157EA99D0>, 'Connection to huggingface.co timed out. (connect timeout=10)'))\"), '(Request ID: 8cb4e054-7901-412a-bb6e-72bb4ed691cd)')",
      "\nThe above exception was the direct cause of the following exception:\n",
      "\u001b[1;31mLocalEntryNotFoundError\u001b[0m                   Traceback (most recent call last)",
      "Cell \u001b[1;32mIn[8], line 5\u001b[0m\n\u001b[0;32m      2\u001b[0m model_vgg, criterion_vgg, optimizer_vgg, lrp_scheduler_vgg, mls_scheduler_vgg \u001b[39m=\u001b[39m model_archive(seed \u001b[39m=\u001b[39m \u001b[39m0\u001b[39m)\n\u001b[0;32m      4\u001b[0m \u001b[39m# ViT (Vision Transformer)\u001b[39;00m\n\u001b[1;32m----> 5\u001b[0m model_vit, criterion_vit, optimizer_vit, lrp_scheduler_vit, mls_scheduler_vit \u001b[39m=\u001b[39m model_archive(seed \u001b[39m=\u001b[39;49m \u001b[39m1\u001b[39;49m)\n\u001b[0;32m      7\u001b[0m \u001b[39m# Ensemble Adversarial Inception-ResNet v2\u001b[39;00m\n\u001b[0;32m      8\u001b[0m model_eairv, criterion_eairv, optimizer_eairv, lrp_scheduler_eairv \u001b[39m=\u001b[39m model_archive(seed \u001b[39m=\u001b[39m \u001b[39m2\u001b[39m)\n",
      "Cell \u001b[1;32mIn[6], line 20\u001b[0m, in \u001b[0;36mmodel_archive\u001b[1;34m(seed)\u001b[0m\n\u001b[0;32m     17\u001b[0m     \u001b[39mreturn\u001b[39;00m model, criterion, optimizer, lrp_scheduler, mls_scheduler\n\u001b[0;32m     19\u001b[0m \u001b[39melif\u001b[39;00m seed \u001b[39m==\u001b[39m \u001b[39m1\u001b[39m:\n\u001b[1;32m---> 20\u001b[0m     model \u001b[39m=\u001b[39m timm\u001b[39m.\u001b[39;49mcreate_model(\u001b[39m'\u001b[39;49m\u001b[39mvit_base_patch16_224\u001b[39;49m\u001b[39m'\u001b[39;49m, pretrained\u001b[39m=\u001b[39;49m\u001b[39mTrue\u001b[39;49;00m)\n\u001b[0;32m     21\u001b[0m     model \u001b[39m=\u001b[39m model_adjustment(model)\n\u001b[0;32m     22\u001b[0m     in_features \u001b[39m=\u001b[39m model\u001b[39m.\u001b[39mhead\u001b[39m.\u001b[39min_features\n",
      "File \u001b[1;32mc:\\Users\\Leaper\\anaconda3\\envs\\pytorch\\lib\\site-packages\\timm\\models\\_factory.py:126\u001b[0m, in \u001b[0;36mcreate_model\u001b[1;34m(model_name, pretrained, pretrained_cfg, pretrained_cfg_overlay, checkpoint_path, cache_dir, scriptable, exportable, no_jit, **kwargs)\u001b[0m\n\u001b[0;32m    124\u001b[0m create_fn \u001b[39m=\u001b[39m model_entrypoint(model_name)\n\u001b[0;32m    125\u001b[0m \u001b[39mwith\u001b[39;00m set_layer_config(scriptable\u001b[39m=\u001b[39mscriptable, exportable\u001b[39m=\u001b[39mexportable, no_jit\u001b[39m=\u001b[39mno_jit):\n\u001b[1;32m--> 126\u001b[0m     model \u001b[39m=\u001b[39m create_fn(\n\u001b[0;32m    127\u001b[0m         pretrained\u001b[39m=\u001b[39mpretrained,\n\u001b[0;32m    128\u001b[0m         pretrained_cfg\u001b[39m=\u001b[39mpretrained_cfg,\n\u001b[0;32m    129\u001b[0m         pretrained_cfg_overlay\u001b[39m=\u001b[39mpretrained_cfg_overlay,\n\u001b[0;32m    130\u001b[0m         cache_dir\u001b[39m=\u001b[39mcache_dir,\n\u001b[0;32m    131\u001b[0m         \u001b[39m*\u001b[39m\u001b[39m*\u001b[39mkwargs,\n\u001b[0;32m    132\u001b[0m     )\n\u001b[0;32m    134\u001b[0m \u001b[39mif\u001b[39;00m checkpoint_path:\n\u001b[0;32m    135\u001b[0m     load_checkpoint(model, checkpoint_path)\n",
      "File \u001b[1;32mc:\\Users\\Leaper\\anaconda3\\envs\\pytorch\\lib\\site-packages\\timm\\models\\vision_transformer.py:2360\u001b[0m, in \u001b[0;36mvit_base_patch16_224\u001b[1;34m(pretrained, **kwargs)\u001b[0m\n\u001b[0;32m   2356\u001b[0m \u001b[39m\u001b[39m\u001b[39m\"\"\" ViT-Base (ViT-B/16) from original paper (https://arxiv.org/abs/2010.11929).\u001b[39;00m\n\u001b[0;32m   2357\u001b[0m \u001b[39mImageNet-1k weights fine-tuned from in21k @ 224x224, source https://github.com/google-research/vision_transformer.\u001b[39;00m\n\u001b[0;32m   2358\u001b[0m \u001b[39m\"\"\"\u001b[39;00m\n\u001b[0;32m   2359\u001b[0m model_args \u001b[39m=\u001b[39m \u001b[39mdict\u001b[39m(patch_size\u001b[39m=\u001b[39m\u001b[39m16\u001b[39m, embed_dim\u001b[39m=\u001b[39m\u001b[39m768\u001b[39m, depth\u001b[39m=\u001b[39m\u001b[39m12\u001b[39m, num_heads\u001b[39m=\u001b[39m\u001b[39m12\u001b[39m)\n\u001b[1;32m-> 2360\u001b[0m model \u001b[39m=\u001b[39m _create_vision_transformer(\u001b[39m'\u001b[39m\u001b[39mvit_base_patch16_224\u001b[39m\u001b[39m'\u001b[39m, pretrained\u001b[39m=\u001b[39mpretrained, \u001b[39m*\u001b[39m\u001b[39m*\u001b[39m\u001b[39mdict\u001b[39m(model_args, \u001b[39m*\u001b[39m\u001b[39m*\u001b[39mkwargs))\n\u001b[0;32m   2361\u001b[0m \u001b[39mreturn\u001b[39;00m model\n",
      "File \u001b[1;32mc:\\Users\\Leaper\\anaconda3\\envs\\pytorch\\lib\\site-packages\\timm\\models\\vision_transformer.py:2260\u001b[0m, in \u001b[0;36m_create_vision_transformer\u001b[1;34m(variant, pretrained, **kwargs)\u001b[0m\n\u001b[0;32m   2257\u001b[0m \u001b[39mif\u001b[39;00m \u001b[39m'\u001b[39m\u001b[39msiglip\u001b[39m\u001b[39m'\u001b[39m \u001b[39min\u001b[39;00m variant \u001b[39mand\u001b[39;00m kwargs\u001b[39m.\u001b[39mget(\u001b[39m'\u001b[39m\u001b[39mglobal_pool\u001b[39m\u001b[39m'\u001b[39m, \u001b[39mNone\u001b[39;00m) \u001b[39m!=\u001b[39m \u001b[39m'\u001b[39m\u001b[39mmap\u001b[39m\u001b[39m'\u001b[39m:\n\u001b[0;32m   2258\u001b[0m     strict \u001b[39m=\u001b[39m \u001b[39mFalse\u001b[39;00m\n\u001b[1;32m-> 2260\u001b[0m \u001b[39mreturn\u001b[39;00m build_model_with_cfg(\n\u001b[0;32m   2261\u001b[0m     VisionTransformer,\n\u001b[0;32m   2262\u001b[0m     variant,\n\u001b[0;32m   2263\u001b[0m     pretrained,\n\u001b[0;32m   2264\u001b[0m     pretrained_filter_fn\u001b[39m=\u001b[39m_filter_fn,\n\u001b[0;32m   2265\u001b[0m     pretrained_strict\u001b[39m=\u001b[39mstrict,\n\u001b[0;32m   2266\u001b[0m     feature_cfg\u001b[39m=\u001b[39m\u001b[39mdict\u001b[39m(out_indices\u001b[39m=\u001b[39mout_indices, feature_cls\u001b[39m=\u001b[39m\u001b[39m'\u001b[39m\u001b[39mgetter\u001b[39m\u001b[39m'\u001b[39m),\n\u001b[0;32m   2267\u001b[0m     \u001b[39m*\u001b[39m\u001b[39m*\u001b[39mkwargs,\n\u001b[0;32m   2268\u001b[0m )\n",
      "File \u001b[1;32mc:\\Users\\Leaper\\anaconda3\\envs\\pytorch\\lib\\site-packages\\timm\\models\\_builder.py:436\u001b[0m, in \u001b[0;36mbuild_model_with_cfg\u001b[1;34m(model_cls, variant, pretrained, pretrained_cfg, pretrained_cfg_overlay, model_cfg, feature_cfg, pretrained_strict, pretrained_filter_fn, cache_dir, kwargs_filter, **kwargs)\u001b[0m\n\u001b[0;32m    434\u001b[0m num_classes_pretrained \u001b[39m=\u001b[39m \u001b[39m0\u001b[39m \u001b[39mif\u001b[39;00m features \u001b[39melse\u001b[39;00m \u001b[39mgetattr\u001b[39m(model, \u001b[39m'\u001b[39m\u001b[39mnum_classes\u001b[39m\u001b[39m'\u001b[39m, kwargs\u001b[39m.\u001b[39mget(\u001b[39m'\u001b[39m\u001b[39mnum_classes\u001b[39m\u001b[39m'\u001b[39m, \u001b[39m1000\u001b[39m))\n\u001b[0;32m    435\u001b[0m \u001b[39mif\u001b[39;00m pretrained:\n\u001b[1;32m--> 436\u001b[0m     load_pretrained(\n\u001b[0;32m    437\u001b[0m         model,\n\u001b[0;32m    438\u001b[0m         pretrained_cfg\u001b[39m=\u001b[39;49mpretrained_cfg,\n\u001b[0;32m    439\u001b[0m         num_classes\u001b[39m=\u001b[39;49mnum_classes_pretrained,\n\u001b[0;32m    440\u001b[0m         in_chans\u001b[39m=\u001b[39;49mkwargs\u001b[39m.\u001b[39;49mget(\u001b[39m'\u001b[39;49m\u001b[39min_chans\u001b[39;49m\u001b[39m'\u001b[39;49m, \u001b[39m3\u001b[39;49m),\n\u001b[0;32m    441\u001b[0m         filter_fn\u001b[39m=\u001b[39;49mpretrained_filter_fn,\n\u001b[0;32m    442\u001b[0m         strict\u001b[39m=\u001b[39;49mpretrained_strict,\n\u001b[0;32m    443\u001b[0m         cache_dir\u001b[39m=\u001b[39;49mcache_dir,\n\u001b[0;32m    444\u001b[0m     )\n\u001b[0;32m    446\u001b[0m \u001b[39m# Wrap the model in a feature extraction module if enabled\u001b[39;00m\n\u001b[0;32m    447\u001b[0m \u001b[39mif\u001b[39;00m features:\n",
      "File \u001b[1;32mc:\\Users\\Leaper\\anaconda3\\envs\\pytorch\\lib\\site-packages\\timm\\models\\_builder.py:213\u001b[0m, in \u001b[0;36mload_pretrained\u001b[1;34m(model, pretrained_cfg, num_classes, in_chans, filter_fn, strict, cache_dir)\u001b[0m\n\u001b[0;32m    211\u001b[0m             state_dict \u001b[39m=\u001b[39m load_state_dict_from_hf(\u001b[39m*\u001b[39mpretrained_loc, cache_dir\u001b[39m=\u001b[39mcache_dir)\n\u001b[0;32m    212\u001b[0m     \u001b[39melse\u001b[39;00m:\n\u001b[1;32m--> 213\u001b[0m         state_dict \u001b[39m=\u001b[39m load_state_dict_from_hf(pretrained_loc, weights_only\u001b[39m=\u001b[39;49m\u001b[39mTrue\u001b[39;49;00m, cache_dir\u001b[39m=\u001b[39;49mcache_dir)\n\u001b[0;32m    214\u001b[0m \u001b[39melse\u001b[39;00m:\n\u001b[0;32m    215\u001b[0m     model_name \u001b[39m=\u001b[39m pretrained_cfg\u001b[39m.\u001b[39mget(\u001b[39m'\u001b[39m\u001b[39marchitecture\u001b[39m\u001b[39m'\u001b[39m, \u001b[39m'\u001b[39m\u001b[39mthis model\u001b[39m\u001b[39m'\u001b[39m)\n",
      "File \u001b[1;32mc:\\Users\\Leaper\\anaconda3\\envs\\pytorch\\lib\\site-packages\\timm\\models\\_hub.py:225\u001b[0m, in \u001b[0;36mload_state_dict_from_hf\u001b[1;34m(model_id, filename, weights_only, cache_dir)\u001b[0m\n\u001b[0;32m    222\u001b[0m             \u001b[39mpass\u001b[39;00m\n\u001b[0;32m    224\u001b[0m \u001b[39m# Otherwise, load using pytorch.load\u001b[39;00m\n\u001b[1;32m--> 225\u001b[0m cached_file \u001b[39m=\u001b[39m hf_hub_download(\n\u001b[0;32m    226\u001b[0m     hf_model_id,\n\u001b[0;32m    227\u001b[0m     filename\u001b[39m=\u001b[39;49mfilename,\n\u001b[0;32m    228\u001b[0m     revision\u001b[39m=\u001b[39;49mhf_revision,\n\u001b[0;32m    229\u001b[0m     cache_dir\u001b[39m=\u001b[39;49mcache_dir,\n\u001b[0;32m    230\u001b[0m )\n\u001b[0;32m    231\u001b[0m _logger\u001b[39m.\u001b[39mdebug(\u001b[39mf\u001b[39m\u001b[39m\"\u001b[39m\u001b[39m[\u001b[39m\u001b[39m{\u001b[39;00mmodel_id\u001b[39m}\u001b[39;00m\u001b[39m] Safe alternative not found for \u001b[39m\u001b[39m'\u001b[39m\u001b[39m{\u001b[39;00mfilename\u001b[39m}\u001b[39;00m\u001b[39m'\u001b[39m\u001b[39m. Loading weights using default pytorch.\u001b[39m\u001b[39m\"\u001b[39m)\n\u001b[0;32m    232\u001b[0m \u001b[39mtry\u001b[39;00m:\n",
      "File \u001b[1;32mc:\\Users\\Leaper\\anaconda3\\envs\\pytorch\\lib\\site-packages\\huggingface_hub\\utils\\_validators.py:114\u001b[0m, in \u001b[0;36mvalidate_hf_hub_args.<locals>._inner_fn\u001b[1;34m(*args, **kwargs)\u001b[0m\n\u001b[0;32m    111\u001b[0m \u001b[39mif\u001b[39;00m check_use_auth_token:\n\u001b[0;32m    112\u001b[0m     kwargs \u001b[39m=\u001b[39m smoothly_deprecate_use_auth_token(fn_name\u001b[39m=\u001b[39mfn\u001b[39m.\u001b[39m\u001b[39m__name__\u001b[39m, has_token\u001b[39m=\u001b[39mhas_token, kwargs\u001b[39m=\u001b[39mkwargs)\n\u001b[1;32m--> 114\u001b[0m \u001b[39mreturn\u001b[39;00m fn(\u001b[39m*\u001b[39margs, \u001b[39m*\u001b[39m\u001b[39m*\u001b[39mkwargs)\n",
      "File \u001b[1;32mc:\\Users\\Leaper\\anaconda3\\envs\\pytorch\\lib\\site-packages\\huggingface_hub\\file_download.py:860\u001b[0m, in \u001b[0;36mhf_hub_download\u001b[1;34m(repo_id, filename, subfolder, repo_type, revision, library_name, library_version, cache_dir, local_dir, user_agent, force_download, proxies, etag_timeout, token, local_files_only, headers, endpoint, resume_download, force_filename, local_dir_use_symlinks)\u001b[0m\n\u001b[0;32m    840\u001b[0m     \u001b[39mreturn\u001b[39;00m _hf_hub_download_to_local_dir(\n\u001b[0;32m    841\u001b[0m         \u001b[39m# Destination\u001b[39;00m\n\u001b[0;32m    842\u001b[0m         local_dir\u001b[39m=\u001b[39mlocal_dir,\n\u001b[1;32m   (...)\u001b[0m\n\u001b[0;32m    857\u001b[0m         local_files_only\u001b[39m=\u001b[39mlocal_files_only,\n\u001b[0;32m    858\u001b[0m     )\n\u001b[0;32m    859\u001b[0m \u001b[39melse\u001b[39;00m:\n\u001b[1;32m--> 860\u001b[0m     \u001b[39mreturn\u001b[39;00m _hf_hub_download_to_cache_dir(\n\u001b[0;32m    861\u001b[0m         \u001b[39m# Destination\u001b[39;49;00m\n\u001b[0;32m    862\u001b[0m         cache_dir\u001b[39m=\u001b[39;49mcache_dir,\n\u001b[0;32m    863\u001b[0m         \u001b[39m# File info\u001b[39;49;00m\n\u001b[0;32m    864\u001b[0m         repo_id\u001b[39m=\u001b[39;49mrepo_id,\n\u001b[0;32m    865\u001b[0m         filename\u001b[39m=\u001b[39;49mfilename,\n\u001b[0;32m    866\u001b[0m         repo_type\u001b[39m=\u001b[39;49mrepo_type,\n\u001b[0;32m    867\u001b[0m         revision\u001b[39m=\u001b[39;49mrevision,\n\u001b[0;32m    868\u001b[0m         \u001b[39m# HTTP info\u001b[39;49;00m\n\u001b[0;32m    869\u001b[0m         endpoint\u001b[39m=\u001b[39;49mendpoint,\n\u001b[0;32m    870\u001b[0m         etag_timeout\u001b[39m=\u001b[39;49metag_timeout,\n\u001b[0;32m    871\u001b[0m         headers\u001b[39m=\u001b[39;49mhf_headers,\n\u001b[0;32m    872\u001b[0m         proxies\u001b[39m=\u001b[39;49mproxies,\n\u001b[0;32m    873\u001b[0m         token\u001b[39m=\u001b[39;49mtoken,\n\u001b[0;32m    874\u001b[0m         \u001b[39m# Additional options\u001b[39;49;00m\n\u001b[0;32m    875\u001b[0m         local_files_only\u001b[39m=\u001b[39;49mlocal_files_only,\n\u001b[0;32m    876\u001b[0m         force_download\u001b[39m=\u001b[39;49mforce_download,\n\u001b[0;32m    877\u001b[0m     )\n",
      "File \u001b[1;32mc:\\Users\\Leaper\\anaconda3\\envs\\pytorch\\lib\\site-packages\\huggingface_hub\\file_download.py:967\u001b[0m, in \u001b[0;36m_hf_hub_download_to_cache_dir\u001b[1;34m(cache_dir, repo_id, filename, repo_type, revision, endpoint, etag_timeout, headers, proxies, token, local_files_only, force_download)\u001b[0m\n\u001b[0;32m    964\u001b[0m                 \u001b[39mreturn\u001b[39;00m pointer_path\n\u001b[0;32m    966\u001b[0m     \u001b[39m# Otherwise, raise appropriate error\u001b[39;00m\n\u001b[1;32m--> 967\u001b[0m     _raise_on_head_call_error(head_call_error, force_download, local_files_only)\n\u001b[0;32m    969\u001b[0m \u001b[39m# From now on, etag, commit_hash, url and size are not None.\u001b[39;00m\n\u001b[0;32m    970\u001b[0m \u001b[39massert\u001b[39;00m etag \u001b[39mis\u001b[39;00m \u001b[39mnot\u001b[39;00m \u001b[39mNone\u001b[39;00m, \u001b[39m\"\u001b[39m\u001b[39metag must have been retrieved from server\u001b[39m\u001b[39m\"\u001b[39m\n",
      "File \u001b[1;32mc:\\Users\\Leaper\\anaconda3\\envs\\pytorch\\lib\\site-packages\\huggingface_hub\\file_download.py:1485\u001b[0m, in \u001b[0;36m_raise_on_head_call_error\u001b[1;34m(head_call_error, force_download, local_files_only)\u001b[0m\n\u001b[0;32m   1482\u001b[0m     \u001b[39mraise\u001b[39;00m head_call_error\n\u001b[0;32m   1483\u001b[0m \u001b[39melse\u001b[39;00m:\n\u001b[0;32m   1484\u001b[0m     \u001b[39m# Otherwise: most likely a connection issue or Hub downtime => let's warn the user\u001b[39;00m\n\u001b[1;32m-> 1485\u001b[0m     \u001b[39mraise\u001b[39;00m LocalEntryNotFoundError(\n\u001b[0;32m   1486\u001b[0m         \u001b[39m\"\u001b[39m\u001b[39mAn error happened while trying to locate the file on the Hub and we cannot find the requested files\u001b[39m\u001b[39m\"\u001b[39m\n\u001b[0;32m   1487\u001b[0m         \u001b[39m\"\u001b[39m\u001b[39m in the local cache. Please check your connection and try again or make sure your Internet connection\u001b[39m\u001b[39m\"\u001b[39m\n\u001b[0;32m   1488\u001b[0m         \u001b[39m\"\u001b[39m\u001b[39m is on.\u001b[39m\u001b[39m\"\u001b[39m\n\u001b[0;32m   1489\u001b[0m     ) \u001b[39mfrom\u001b[39;00m \u001b[39mhead_call_error\u001b[39;00m\n",
      "\u001b[1;31mLocalEntryNotFoundError\u001b[0m: An error happened while trying to locate the file on the Hub and we cannot find the requested files in the local cache. Please check your connection and try again or make sure your Internet connection is on."
     ]
    }
   ],
   "source": [
    "# VGG19 with batch-normalization\n",
    "model_vgg, criterion_vgg, optimizer_vgg, lrp_scheduler_vgg, mls_scheduler_vgg = model_archive(seed = 0)\n",
    "\n",
    "# ViT (Vision Transformer)\n",
    "model_vit, criterion_vit, optimizer_vit, lrp_scheduler_vit, mls_scheduler_vit = model_archive(seed = 1)\n",
    "\n",
    "# Ensemble Adversarial Inception-ResNet v2\n",
    "model_eairv, criterion_eairv, optimizer_eairv, lrp_scheduler_eairv = model_archive(seed = 2)\n",
    "\n",
    "# DenseNet201 classifier\n",
    "model_dn, criterion_dn, optimizer_dn, lrp_scheduler_dn = model_archive(seed = 3)\n",
    "\n",
    "# ResNeXt50_32 Classifier\n",
    "model_rnx, criterion_rnx, optimizer_rnx, lrp_scheduler_rnx = model_archive(seed = 4)"
   ]
  },
  {
   "cell_type": "code",
   "execution_count": null,
   "metadata": {},
   "outputs": [],
   "source": [
    "class AddGaussianNoise(object):\n",
    "    def __init__(self, mean=0., std=1.):\n",
    "        self.std = std\n",
    "        self.mean = mean\n",
    "        \n",
    "    def __call__(self, tensor):\n",
    "        return tensor + torch.randn(tensor.size()) * self.std + self.mean\n",
    "    \n",
    "    def __repr__(self):\n",
    "        return self.__class__.__name__ + '(mean={0}, std={1})'.format(self.mean, self.std)"
   ]
  },
  {
   "cell_type": "code",
   "execution_count": null,
   "metadata": {},
   "outputs": [],
   "source": [
    "transform_train_v1 = torchvision.transforms.Compose([\n",
    "    transforms.Resize(size=256, interpolation=transforms.functional.InterpolationMode('bicubic'), max_size=None, antialias=None),\n",
    "    transforms.CenterCrop(size=(224, 224)),\n",
    "    transforms.ToTensor(),\n",
    "    transforms.Normalize(mean=([0.4850, 0.4560, 0.4060]), std=([0.2290, 0.2240, 0.2250])),\n",
    "    transforms.RandomErasing(p=0.5, scale=(0.02, 0.33), ratio=(0.3, 3.3), inplace=False),\n",
    "    transforms.RandomApply([AddGaussianNoise(0., 0.156)], p=0.5),\n",
    "])\n",
    "transform_test_v1 = torchvision.transforms.Compose([\n",
    "    transforms.Resize(size=256, interpolation=transforms.functional.InterpolationMode('bicubic'), max_size=None, antialias=None),\n",
    "    transforms.CenterCrop(size=(224, 224)),\n",
    "    transforms.ToTensor(),\n",
    "    transforms.Normalize(mean=([0.4850, 0.4560, 0.4060]), std=([0.2290, 0.2240, 0.2250])),\n",
    "])"
   ]
  },
  {
   "cell_type": "code",
   "execution_count": null,
   "metadata": {},
   "outputs": [],
   "source": [
    "config_vit = resolve_data_config({}, model = model_vit)\n",
    "transform_vit = create_transform(**config_vit)\n",
    "\n",
    "config_eairv = resolve_data_config({}, model = model_eairv)\n",
    "transform_eairv = create_transform(**config_eairv)"
   ]
  },
  {
   "cell_type": "code",
   "execution_count": null,
   "metadata": {},
   "outputs": [],
   "source": [
    "train_data_v1 = ImageFolder(train_dir, transform = transform_train_v1)\n",
    "test_data_v1 = ImageFolder(test_dir, transform = transform_test_v1)\n",
    "#loading data for VGG19 BatchNorm, DenseNet201, ResNeXt50\n",
    "train_loader_v1 = torch.utils.data.DataLoader(train_data_v1, BATCH_SIZE, shuffle=True)\n",
    "test_loader_v1 = torch.utils.data.DataLoader(test_data_v1, BATCH_SIZE, shuffle=False)\n",
    "\n",
    "\n",
    "train_data_vit = ImageFolder(train_dir, transform = transform_vit)\n",
    "test_data_vit = ImageFolder(test_dir, transform = transform_vit)\n",
    "#loading data for ViT\n",
    "train_loader_vit = torch.utils.data.DataLoader(train_data_vit, BATCH_SIZE, shuffle=True)\n",
    "test_loader_vit = torch.utils.data.DataLoader(test_data_vit, BATCH_SIZE, shuffle=False)\n",
    "\n",
    "\n",
    "train_data_eairv = ImageFolder(train_dir, transform = transform_eairv)\n",
    "test_data_eairv = ImageFolder(test_dir, transform = transform_eairv)\n",
    "#loading data for Ensemble Adversarial Inception-ResNetV2\n",
    "train_loader_eairv = torch.utils.data.DataLoader(train_data_eairv, BATCH_SIZE, shuffle=True)\n",
    "test_loader_eairv = torch.utils.data.DataLoader(test_data_eairv, BATCH_SIZE, shuffle=False)"
   ]
  },
  {
   "cell_type": "code",
   "execution_count": null,
   "metadata": {},
   "outputs": [],
   "source": [
    "def predictions_df(dl_model, test_loader, transform_obj):\n",
    "    pred_hard, pred_soft = [], []\n",
    "    correct_count, all_count = 0,0\n",
    "    dl_model.eval()\n",
    "    im_dim = transform_obj.transforms[1].size[0]\n",
    "    with torch.no_grad():\n",
    "        for images, labels in test_loader:\n",
    "            if torch.cuda.is_available():\n",
    "                images = images.cuda()\n",
    "                labels = labels.cuda()\n",
    "            for i in range(len(labels)):\n",
    "                img = images[i].view(1, 3, im_dim, im_dim)\n",
    "                # soft voting\n",
    "                output = dl_model(img)\n",
    "                sm = nn.Softmax(dim=1)\n",
    "                probabilities = sm(output)\n",
    "                prob_arr = (probabilities.detach().cpu().numpy())[0]\n",
    "                # hard voting\n",
    "                logps = dl_model(img)\n",
    "                ps = torch.exp(logps)\n",
    "                probab = list(ps.cpu()[0])\n",
    "                pred_label = probab.index(max(probab))\n",
    "                true_label = labels.cpu()[i]\n",
    "                #exporting to dataframe\n",
    "                pred_hard.append(pred_label)\n",
    "                pred_soft.append(prob_arr)\n",
    "                ####\n",
    "                if(true_label == pred_label):\n",
    "                    correct_count += 1\n",
    "                all_count += 1\n",
    "\n",
    "    print(\"Number of images Tested=\", all_count)\n",
    "    print(\"Model Accuracy=\",(correct_count/all_count)*100)\n",
    "    print(\"\\n\")\n",
    "    return pred_hard, pred_soft"
   ]
  },
  {
   "cell_type": "code",
   "execution_count": null,
   "metadata": {},
   "outputs": [],
   "source": [
    "def batch_gd(model, criterion, optimizer, train_loader, test_loader, epochs, seed, model_name, lrp_scheduler, mls_scheduler=None):\n",
    "    train_losses = np.zeros(epochs)\n",
    "    test_losses = np.zeros(epochs)\n",
    "\n",
    "    for it in range(epochs):\n",
    "        t0 = datetime.now()\n",
    "        model.train()\n",
    "        train_loss = []\n",
    "        train_total = 0\n",
    "        train_correct = 0\n",
    "        for batch_idx, (inputs, targets) in enumerate(train_loader):\n",
    "            # move data to GPU\n",
    "            inputs, targets = inputs.to(device), targets.to(device)\n",
    "            # zero the parameter gradients\n",
    "            optimizer.zero_grad()\n",
    "            # Forward pass\n",
    "            outputs = model(inputs)\n",
    "            _, train_predict = torch.max(outputs.data, 1)\n",
    "            loss = criterion(outputs, targets)\n",
    "            # Backward and optimize\n",
    "            loss.backward()\n",
    "            optimizer.step()\n",
    "            train_loss.append(loss.item())\n",
    "            train_total += targets.size(0)\n",
    "            train_correct += (train_predict == targets).sum().item()\n",
    "\n",
    "        else:\n",
    "            model.eval()\n",
    "            test_loss = []\n",
    "            test_total = 0\n",
    "            test_correct = 0\n",
    "            for inputs, targets in test_loader:\n",
    "                inputs, targets = inputs.to(device), targets.to(device)\n",
    "                outputs = model(inputs)\n",
    "                _, test_predict = torch.max(outputs.data, 1)\n",
    "                loss = criterion(outputs, targets)\n",
    "                test_loss.append(loss.item())\n",
    "                test_total += targets.size(0)\n",
    "                test_correct += (test_predict == targets).sum().item()\n",
    "            #get train and test loss\n",
    "            test_loss = np.mean(test_loss)\n",
    "            train_loss = np.mean(train_loss)\n",
    "            #scheduler ReduceLROnPlateau and MultiStepLR\n",
    "            lrp_scheduler.step(metric)\n",
    "            if seed == 0 or seed == 1:\n",
    "                mls_scheduler.step()\n",
    "            ###    \n",
    "            print('learning_rate: {}'.format(optimizer.state_dict()['param_groups'][0]['lr']))\n",
    "            # Save losses\n",
    "            train_losses[it] = train_loss\n",
    "            test_losses[it] = test_loss\n",
    "\n",
    "            dt = datetime.now() - t0\n",
    "            print(f'Epoch {it+1}/{epochs}, Train Loss: {train_loss:.4f}, Acc: {(100*train_correct/train_total):.4f}, \\\n",
    "                    Test Loss: {test_loss:.4f}, Test Acc: {(100*test_correct/test_total):.4f}, Duration: {dt}')\n",
    "    return train_losses, test_losses"
   ]
  },
  {
   "cell_type": "code",
   "execution_count": null,
   "metadata": {},
   "outputs": [],
   "source": [
    "print('Model: VGG-19-BN')\n",
    "loss_train_vgg, loss_test_vgg = batch_gd(model_vgg, criterion_vgg, optimizer_vgg, train_loader_v1, test_loader_v1, EPOCHS, 0, 'vgg_dict.pth', lrp_scheduler_vgg, mls_scheduler_vgg)\n",
    "print('\\nModel: DenseNet201')\n",
    "loss_train_dn, loss_test_dn = batch_gd(model_dn, criterion_dn, optimizer_dn, train_loader_v1, test_loader_v1, EPOCHS, 2, 'dn_dict.pth', lrp_scheduler_dn)\n",
    "print('\\nModel: ResNeXt50')\n",
    "loss_train_rnx, loss_test_rnx = batch_gd(model_rnx, criterion_rnx, optimizer_rnx, train_loader_v1, test_loader_v1, EPOCHS, 4, 'rnx_dict.pth', lrp_scheduler_rnx)"
   ]
  },
  {
   "cell_type": "code",
   "execution_count": null,
   "metadata": {},
   "outputs": [],
   "source": [
    "print('\\nModel: Vision Transformer - ViT')\n",
    "loss_train_vit, loss_test_vit = batch_gd(model_vit, criterion_vit, optimizer_vit, train_loader_vit, test_loader_vit, EPOCHS, 1, 'vit_dict.pth', lrp_scheduler_vit, mls_scheduler_vit)"
   ]
  },
  {
   "cell_type": "code",
   "execution_count": null,
   "metadata": {},
   "outputs": [],
   "source": [
    "print('\\nModel: Ensemble Adverserial Inception-Resnet-V2')\n",
    "loss_train_eairv, loss_test_eairv = batch_gd(model_eairv, criterion_eairv, optimizer_eairv, train_loader_eairv, test_loader_eairv, EPOCHS, 3, 'eairv_dict.pth', lrp_scheduler_eairv)"
   ]
  },
  {
   "cell_type": "code",
   "execution_count": null,
   "metadata": {},
   "outputs": [],
   "source": [
    "#predictions for each model (pred_hard, pred_soft)\n",
    "vgg19_bn_hard, vgg19_bn_soft = predictions_df(model_vgg, test_loader_v1, transform_test_v1)\n",
    "vit_hard, vit_soft = predictions_df(model_vit, test_loader_vit, transform_vit)\n",
    "densenet201_hard, densenet201_soft = predictions_df(model_dn, test_loader_v1, transform_test_v1)\n",
    "ensemble_adv_incres_v2_hard, ensemble_adv_incres_v2_soft = predictions_df(model_eairv, test_loader_eairv, transform_eairv)\n",
    "resnext50_hard, resnext50_soft = predictions_df(model_rnx, test_loader_v1, transform_test_v1)\n",
    "true_labels = []\n",
    "#getting true labels\n",
    "for _, labels in test_loader_v1:\n",
    "    for x in range(len(labels)):\n",
    "        true_labels.append(labels[x].item())"
   ]
  },
  {
   "cell_type": "code",
   "execution_count": null,
   "metadata": {},
   "outputs": [],
   "source": [
    "def plot_model_accuracies():\n",
    "    scores = []\n",
    "    model_acc = {'vgg19BN':vgg19_bn_hard, 'ViT':vit_hard, 'DenseNet201':densenet201_hard,\n",
    "                 'EAInceptionResNetV2':ensemble_adv_incres_v2_hard, 'ResNeXt50':resnext50_hard}\n",
    "    for model_pred in model_acc.values():\n",
    "        scores.append((accuracy_score(true_labels, model_pred))*100)\n",
    "    sns.set_theme(style=\"whitegrid\")\n",
    "    sns.set(rc={'figure.figsize':(12,6)})\n",
    "    ax = sns.barplot(y=list(model_acc.keys()), x=scores, palette=\"Blues_d\", orient='h')\n",
    "    ax.xaxis.set_major_locator(ticker.MultipleLocator(5))\n",
    "    ax.xaxis.set_major_formatter(ticker.ScalarFormatter())\n",
    "\n",
    "plot_model_accuracies()"
   ]
  },
  {
   "cell_type": "code",
   "execution_count": null,
   "metadata": {},
   "outputs": [],
   "source": [
    "def plot_multi_model_losses():\n",
    "    model_acc = {'vgg19BN':[loss_train_vgg, loss_test_vgg], 'ViT':[loss_train_vit, loss_test_vit],\n",
    "                 'DenseNet201':[loss_train_dn, loss_test_dn], 'EAInceptionResNetV2':[loss_train_eairv, loss_test_eairv],\n",
    "                 'ResNeXt50':[loss_train_rnx, loss_test_rnx]}\n",
    "    sns.set()\n",
    "    fig, axes = plt.subplots(2, 3, figsize=(18, 10))\n",
    "    fig.suptitle('Training and Testing losses')\n",
    "    idx = 0\n",
    "    for x in range(2):\n",
    "        for y in range(3):\n",
    "            if idx < 5:\n",
    "                sns.lineplot(ax=axes[x, y], x=range(1,10), y=model_acc[list(model_acc.keys())[idx]][0])\n",
    "                sns.lineplot(ax=axes[x, y], x=range(1,10),\n",
    "                             y=model_acc[list(model_acc.keys())[idx]][1]).set_title(list(model_acc.keys())[idx])\n",
    "            idx += 1\n",
    "    fig.delaxes(ax = axes[1,2])\n",
    "            \n",
    "            \n",
    "plot_multi_model_losses()"
   ]
  },
  {
   "cell_type": "code",
   "execution_count": null,
   "metadata": {},
   "outputs": [],
   "source": [
    "def plot_confusion_matrix(preds, classes, normalize=False, title='Confusion matrix', cmap=plt.cm.Blues):\n",
    "    #getting the standard confusion matrix in text form\n",
    "    cm = confusion_matrix(np.asarray(true_labels), np.asarray(preds))\n",
    "    #using the matrix generated as means to plot a confusion matrix graphically\n",
    "    if normalize:\n",
    "        cm = cm.astype('float') / cm.sum(axis=1)[:, np.newaxis]\n",
    "        print(\"Normalized confusion matrix\")\n",
    "    else:\n",
    "        print('Confusion matrix, without normalization')\n",
    "\n",
    "    #print(cm)\n",
    "    plt.imshow(cm, interpolation='nearest', cmap=cmap)\n",
    "    plt.title(title)\n",
    "    plt.colorbar()\n",
    "    tick_marks = np.arange(len(classes))\n",
    "    plt.xticks(tick_marks, classes, rotation=45)\n",
    "    plt.yticks(tick_marks, classes)\n",
    "\n",
    "    fmt = '.2f' if normalize else 'd'\n",
    "    thresh = cm.max() / 2.\n",
    "    for i, j in itertools.product(range(cm.shape[0]), range(cm.shape[1])):\n",
    "        plt.text(j, i, format(cm[i, j], fmt), horizontalalignment=\"center\", color=\"white\" if cm[i, j] > thresh else \"black\")\n",
    "\n",
    "    plt.tight_layout()\n",
    "    plt.ylabel('True label')\n",
    "    plt.xlabel('Predicted label')"
   ]
  },
  {
   "cell_type": "code",
   "execution_count": null,
   "metadata": {},
   "outputs": [],
   "source": [
    "plot_confusion_matrix(vgg19_bn_hard, CLASSES)"
   ]
  },
  {
   "cell_type": "code",
   "execution_count": null,
   "metadata": {},
   "outputs": [],
   "source": [
    "plot_confusion_matrix(vit_hard, CLASSES)"
   ]
  },
  {
   "cell_type": "code",
   "execution_count": null,
   "metadata": {},
   "outputs": [],
   "source": [
    "plot_confusion_matrix(densenet201_hard, CLASSES)"
   ]
  },
  {
   "cell_type": "code",
   "execution_count": null,
   "metadata": {},
   "outputs": [],
   "source": [
    "plot_confusion_matrix(ensemble_adv_incres_v2_hard, CLASSES)"
   ]
  },
  {
   "cell_type": "code",
   "execution_count": null,
   "metadata": {},
   "outputs": [],
   "source": [
    "plot_confusion_matrix(resnext50_hard, CLASSES)"
   ]
  },
  {
   "cell_type": "code",
   "execution_count": null,
   "metadata": {},
   "outputs": [],
   "source": [
    "df_hard_voting = pd.DataFrame.from_dict({'vgg19_bn':vgg19_bn_hard, 'vit':vit_hard,\n",
    "                    'densenet201':densenet201_hard, 'en_adv_incresv2':ensemble_adv_incres_v2_hard,\n",
    "                    'resnext50':resnext50_hard})"
   ]
  },
  {
   "cell_type": "code",
   "execution_count": null,
   "metadata": {},
   "outputs": [],
   "source": [
    "df_soft_voting = pd.DataFrame.from_dict({'vgg19_bn_soft':vgg19_bn_soft, 'vit_soft':vit_soft,\n",
    "                    'densenet201_soft':densenet201_soft, 'en_adv_incresv2_soft':ensemble_adv_incres_v2_soft,\n",
    "                    'resnext50_soft':resnext50_soft})"
   ]
  },
  {
   "cell_type": "code",
   "execution_count": null,
   "metadata": {},
   "outputs": [],
   "source": [
    "ensemble_hard_predictions = np.asarray(df_hard_voting.mode(axis=1)[0])\n",
    "ensemble_hard_score = accuracy_score(np.asarray(true_labels), ensemble_hard_predictions)\n",
    "print(f\"The Accuracy Score of Hard Voting Ensemble is:  {(ensemble_hard_score*100):.4f} %\")"
   ]
  },
  {
   "cell_type": "code",
   "execution_count": null,
   "metadata": {},
   "outputs": [],
   "source": [
    "plot_confusion_matrix(ensemble_hard_predictions, CLASSES, cmap=plt.cm.RdPu)"
   ]
  },
  {
   "cell_type": "code",
   "execution_count": null,
   "metadata": {},
   "outputs": [],
   "source": [
    "def get_soft_voting():\n",
    "    preds = []\n",
    "    for x in range(len(df_soft_voting)):\n",
    "        sample = (0.0, 0.0, 0.0, 0.0, 0.0, 0.0)\n",
    "        for y in range(len(df_soft_voting.columns)):\n",
    "            sample = tuple(map(operator.add, sample, (tuple(df_soft_voting.iloc[x,y]))))\n",
    "        sample = tuple(ti/len(sample) for ti in sample)\n",
    "        element = max(sample)\n",
    "        idx = sample.index(element)\n",
    "        preds.append(idx)\n",
    "    return preds\n",
    "\n",
    "ensemble_soft_preds = get_soft_voting()\n",
    "ensemble_soft_score = accuracy_score(np.asarray(true_labels), np.asarray(ensemble_soft_preds))\n",
    "print(f\"The Accuracy Score of Hard Voting Ensemble is:  {(ensemble_soft_score*100):.4f} %\")"
   ]
  },
  {
   "cell_type": "code",
   "execution_count": null,
   "metadata": {},
   "outputs": [],
   "source": [
    "plot_confusion_matrix(ensemble_soft_preds, CLASSES, cmap=plt.cm.RdPu)"
   ]
  },
  {
   "cell_type": "code",
   "execution_count": null,
   "metadata": {},
   "outputs": [],
   "source": [
    "def get_weighted_average():\n",
    "    preds = []\n",
    "    weights = [0.2315, 0.973, 0.221, 0.189, 0.123]\n",
    "    for x in range(len(df_soft_voting)):\n",
    "        sample = (0.0, 0.0, 0.0, 0.0, 0.0, 0.0)\n",
    "        for y in range(len(df_soft_voting.columns)):\n",
    "            ##\n",
    "            k = tuple(float(weights[y]) * element for element in (tuple(df_soft_voting.iloc[x,y])))\n",
    "            ##\n",
    "            sample = tuple(map(operator.add, sample, k))\n",
    "        sample = tuple(ti/len(sample) for ti in sample)\n",
    "        element = max(sample)\n",
    "        idx = sample.index(element)\n",
    "        preds.append(idx)\n",
    "    return preds\n",
    "\n",
    "weighted_soft_preds = get_weighted_average()\n",
    "weighted_soft_score = accuracy_score(np.asarray(true_labels), np.asarray(weighted_soft_preds))\n",
    "print(f\"The Accuracy Score of Hard Voting Ensemble is:  {(weighted_soft_score*100):.4f} %\")"
   ]
  },
  {
   "cell_type": "code",
   "execution_count": null,
   "metadata": {},
   "outputs": [],
   "source": [
    "plot_confusion_matrix(weighted_soft_preds, CLASSES, cmap=plt.cm.RdPu)"
   ]
  },
  {
   "cell_type": "code",
   "execution_count": null,
   "metadata": {},
   "outputs": [],
   "source": [
    "def plot_final_accuracies():\n",
    "    scores = []\n",
    "    model_acc = {'vgg19BN':vgg19_bn_hard, 'ViT':vit_hard, 'DenseNet201':densenet201_hard,\n",
    "                 'EAInceptionResNetV2':ensemble_adv_incres_v2_hard, 'ResNeXt50':resnext50_hard,\n",
    "                 'ensemble-HV':ensemble_hard_predictions, 'ensemble-SV':ensemble_soft_preds,\n",
    "                 'ensemble-WSV':weighted_soft_preds}\n",
    "    for model_pred in model_acc.values():\n",
    "        scores.append((accuracy_score(true_labels, model_pred))*100)\n",
    "    sns.set_theme(style=\"whitegrid\")\n",
    "    sns.set(rc={'figure.figsize':(14,7)})\n",
    "    ax = sns.barplot(y=list(model_acc.keys()), x=scores, palette=\"magma\", orient='h')\n",
    "    ax.xaxis.set_major_locator(ticker.MultipleLocator(5))\n",
    "    ax.xaxis.set_major_formatter(ticker.ScalarFormatter())\n",
    "\n",
    "plot_final_accuracies()"
   ]
  },
  {
   "cell_type": "code",
   "execution_count": null,
   "metadata": {},
   "outputs": [],
   "source": []
  }
 ],
 "metadata": {
  "kernelspec": {
   "display_name": "pytorch",
   "language": "python",
   "name": "python3"
  },
  "language_info": {
   "codemirror_mode": {
    "name": "ipython",
    "version": 3
   },
   "file_extension": ".py",
   "mimetype": "text/x-python",
   "name": "python",
   "nbconvert_exporter": "python",
   "pygments_lexer": "ipython3",
   "version": "3.9.0"
  },
  "orig_nbformat": 4
 },
 "nbformat": 4,
 "nbformat_minor": 2
}
